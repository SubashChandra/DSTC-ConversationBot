{
 "cells": [
  {
   "cell_type": "code",
   "execution_count": 148,
   "metadata": {
    "collapsed": true
   },
   "outputs": [],
   "source": [
    "from gensim import utils\n",
    "from gensim.models.doc2vec import LabeledSentence\n",
    "from gensim.models.doc2vec import TaggedLineDocument\n",
    "from gensim.models import doc2vec\n",
    "from gensim.models import Doc2Vec\n",
    "from gensim import models\n",
    "import numpy as np\n",
    "from math import *\n",
    "from sklearn.metrics.pairwise import cosine_similarity\n",
    "\n"
   ]
  },
  {
   "cell_type": "code",
   "execution_count": 157,
   "metadata": {
    "collapsed": true
   },
   "outputs": [],
   "source": [
    "fnames=[\"DSTC2.txt\"]"
   ]
  },
  {
   "cell_type": "code",
   "execution_count": 158,
   "metadata": {
    "collapsed": false
   },
   "outputs": [],
   "source": [
    "def getData(fname):\n",
    "    global userSentences\n",
    "    global userToSys\n",
    "    fh=open(fname,'r')\n",
    "\n",
    "\n",
    "    tempList=[]\n",
    "    prev=\"\"\n",
    "    for line in fh:\n",
    "        line=line.strip()\n",
    "        \n",
    "        temp=line.strip().split(':')\n",
    "\n",
    "        if line.startswith(\"User\"):\n",
    "            userSentences.append(temp[1])\n",
    "            prev = temp[1]\n",
    "            \n",
    "        elif line.startswith(\"System\") and len(prev)>1 :\n",
    "            if prev in userToSys:\n",
    "                tempdict = userToSys[prev]\n",
    "                if temp[1] in tempdict:\n",
    "                    tempdict[temp[1]]+=1\n",
    "                    \n",
    "                else:\n",
    "                    tempdict[temp[1]]=1\n",
    "                userToSys[prev] = tempdict\n",
    "            else:\n",
    "                tempdict={}\n",
    "                tempdict[temp[1]]=1\n",
    "                userToSys[prev]=tempdict\n",
    "                \n",
    "                \n",
    "        else:\n",
    "            prev=\"\""
   ]
  },
  {
   "cell_type": "code",
   "execution_count": 159,
   "metadata": {
    "collapsed": false
   },
   "outputs": [],
   "source": [
    "userSentences=[] #list of user sentences\n",
    "userToSys={} #dictionary of dictionaries; tracks usersentence as key and system responses along with their freq\n",
    "for i in range(len(fnames)):\n",
    "\tgetData(fnames[i])\n",
    "\n",
    "#userSentences = set(userSentences)"
   ]
  },
  {
   "cell_type": "code",
   "execution_count": 160,
   "metadata": {
    "collapsed": false
   },
   "outputs": [],
   "source": [
    "counter=1\n",
    "sentences = []\n",
    "for line in userSentences:\n",
    "    line=line.strip()\n",
    "    sentences.append(doc2vec.LabeledSentence(words=line.split(' '),tags=[str(counter)]))\n",
    "    counter+=1\n"
   ]
  },
  {
   "cell_type": "code",
   "execution_count": 161,
   "metadata": {
    "collapsed": false
   },
   "outputs": [],
   "source": [
    "#for i in sentences:\n",
    "#    print i"
   ]
  },
  {
   "cell_type": "code",
   "execution_count": 162,
   "metadata": {
    "collapsed": true
   },
   "outputs": [],
   "source": [
    "class LabeledLineSentence(object):\n",
    "    def __init__(self, filename):\n",
    "        self.filename = filename\n",
    "    def __iter__(self):\n",
    "        for uid, line in enumerate(open(filename)):\n",
    "            yield LabeledSentence(words=line.split(), labels=['SENT_%s' % uid])\n",
    "            #print words,labels"
   ]
  },
  {
   "cell_type": "code",
   "execution_count": 163,
   "metadata": {
    "collapsed": false
   },
   "outputs": [],
   "source": [
    "model = models.Doc2Vec(alpha=.025, min_alpha=.025, min_count=1)\n",
    "model.build_vocab(sentences)\n"
   ]
  },
  {
   "cell_type": "code",
   "execution_count": 164,
   "metadata": {
    "collapsed": false
   },
   "outputs": [],
   "source": [
    "for epoch in range(10):\n",
    "    model.random = np.random.RandomState(1234)\n",
    "    model.train(sentences)\n",
    "    model.alpha -= 0.002  # decrease the learning rate`\n",
    "    model.min_alpha = model.alpha  # fix the learning rate, no decay"
   ]
  },
  {
   "cell_type": "code",
   "execution_count": 165,
   "metadata": {
    "collapsed": true
   },
   "outputs": [],
   "source": [
    "model.save(\"my_model.doc2vec\")\n",
    "model_loaded = models.Doc2Vec.load('my_model.doc2vec')"
   ]
  },
  {
   "cell_type": "code",
   "execution_count": 166,
   "metadata": {
    "collapsed": false
   },
   "outputs": [
    {
     "name": "stdout",
     "output_type": "stream",
     "text": [
      "[[ 1.00000012]]\n",
      " expensive restaurant in the south part of town\n",
      " any\n",
      " address\n",
      " type of food\n",
      " thank you good bye\n",
      " lebanese restaurant in the west part of town\n",
      "[-0.03254697  0.0109737   0.00131673  0.03310098  0.27002457 -0.0773451\n",
      " -0.07125216 -0.05216984 -0.07114371 -0.14431317  0.18070956 -0.22831945\n",
      "  0.20627533 -0.10354809  0.01755297  0.14095908  0.06710712 -0.10587363\n",
      "  0.11759092 -0.04077486  0.26108125  0.09116494  0.18470827  0.34410858\n",
      " -0.04407064 -0.06077903 -0.16300252  0.17763726 -0.06119136 -0.07633433\n",
      "  0.12032668  0.12770411 -0.01828266  0.01038177  0.2211443  -0.03952312\n",
      "  0.19142227 -0.10300343  0.05359082 -0.21127065  0.00328514 -0.0105879\n",
      " -0.06272263  0.05800174  0.06213303 -0.004843   -0.21344307 -0.14326231\n",
      "  0.19313331  0.03896561 -0.0019636  -0.02084484 -0.20634708  0.20595416\n",
      "  0.09028281  0.14239872  0.17203842 -0.03681236  0.07662227 -0.12050121\n",
      "  0.00672664  0.04100583 -0.11889004 -0.06628127 -0.12353602 -0.11640135\n",
      "  0.22539678 -0.10447957 -0.04150077 -0.28704965 -0.03370696 -0.11007197\n",
      "  0.08610844  0.19800195 -0.05351353  0.02528041 -0.20084208  0.12564559\n",
      "  0.07613757 -0.09705021  0.06881317 -0.122508   -0.04398776  0.0588358\n",
      " -0.05723868  0.07146945 -0.07323888  0.00535757 -0.09679278  0.19486186\n",
      " -0.11532433 -0.03124209  0.02153974 -0.01830419 -0.07640147 -0.10855509\n",
      "  0.01207488  0.23128903 -0.00306112  0.092258   -0.09116258  0.08140654\n",
      " -0.13068385 -0.03665159 -0.08448811 -0.02438925 -0.06707186  0.04172903\n",
      " -0.1009265   0.04369673 -0.11427657  0.19723165  0.03349053 -0.17137623\n",
      " -0.1074903   0.0019456  -0.08717239  0.1933078  -0.09619296  0.09723812\n",
      "  0.1602487  -0.10704196  0.0173423   0.00277592 -0.07627144 -0.01719975\n",
      "  0.13779241 -0.01018833 -0.13673559  0.13856812  0.07475393 -0.10817812\n",
      "  0.17834271 -0.15159041 -0.13494924 -0.00988627 -0.07537632 -0.07126733\n",
      " -0.00252866  0.10607261 -0.02638527  0.08170658  0.07345722  0.08450168\n",
      " -0.00849873  0.08062237 -0.0863272  -0.04451767 -0.12162682  0.00133043\n",
      "  0.00886149  0.11292005 -0.1851213  -0.21803512 -0.08783276  0.09326955\n",
      " -0.10310463 -0.0590873  -0.29967019  0.06982237 -0.02932137  0.01440614\n",
      " -0.16901714 -0.07616975  0.09398028 -0.06241705 -0.09596711  0.21096238\n",
      " -0.02676046  0.07930079 -0.03625591  0.16724703  0.03311822 -0.03134052\n",
      "  0.04136154 -0.07981758 -0.01651882  0.02980058 -0.09927021  0.22692449\n",
      "  0.10281099 -0.1213347   0.29606396  0.07361839 -0.02794787 -0.08093211\n",
      "  0.26137766 -0.00117722 -0.09867968 -0.05206475 -0.07567812  0.06317598\n",
      "  0.08765442 -0.14817712  0.12056386 -0.08055905 -0.04719071  0.17812604\n",
      "  0.04610973 -0.13882472  0.07899369  0.02977116  0.13658735  0.03192993\n",
      "  0.05650482  0.10141177 -0.04476183  0.00906101  0.11503412 -0.07815485\n",
      "  0.07072052 -0.00956612 -0.09897323  0.09045333 -0.03912437 -0.10984707\n",
      " -0.25903329  0.0020784  -0.19590674 -0.09593748  0.05161062  0.11813021\n",
      " -0.04540852 -0.10701549 -0.092763    0.12131727  0.04423558 -0.00425381\n",
      "  0.03400055  0.04653594  0.02720662  0.20994793 -0.09586906 -0.05934179\n",
      "  0.00315433  0.15566742 -0.06479329 -0.13248318  0.06831618 -0.00793262\n",
      "  0.2618593   0.06835277 -0.03735138 -0.03762814  0.0013103  -0.08460305\n",
      " -0.04197288 -0.04472269  0.02009169 -0.09209406  0.00443735 -0.22986741\n",
      "  0.02599209  0.15453294  0.08582989 -0.09574997  0.0881555  -0.01960508\n",
      "  0.10983895  0.08603754 -0.137063    0.00874669 -0.1017073   0.0223864\n",
      " -0.00606907 -0.25227654 -0.28541622  0.18488941  0.15931648  0.01867025\n",
      "  0.07626291  0.06437287  0.01174281  0.02401238  0.10384603  0.07349222\n",
      " -0.12257388  0.37342283 -0.2800073   0.0078436   0.08792101  0.23952539\n",
      "  0.05818878  0.09097941  0.1425163  -0.17484203  0.1004446  -0.19668119\n",
      " -0.13441333  0.04307132  0.07722152  0.09992225  0.02441851  0.121847\n",
      "  0.04665667 -0.20479806 -0.05303323 -0.03699983  0.11586211  0.00615397]\n",
      "[  1.27131894e-01  -1.17904186e-01   1.34159205e-02  -1.00777507e-01\n",
      "  -1.58449840e-02  -8.78908299e-03  -2.70035341e-02  -1.09607629e-01\n",
      "  -1.33837098e-02   2.76987106e-02  -4.18368950e-02   4.71385680e-02\n",
      "   7.29442108e-05   2.82421429e-02   9.04163159e-03   1.02014385e-01\n",
      "  -7.04292301e-03   1.66328177e-01   9.81159434e-02   9.63516813e-03\n",
      "  -8.79440159e-02  -2.81925593e-02   1.19720243e-01  -1.44928113e-01\n",
      "  -4.45653833e-02   4.44249362e-02   7.13415071e-02   7.43364245e-02\n",
      "  -4.89858128e-02  -1.27108395e-02  -4.11152579e-02  -7.26086423e-02\n",
      "   1.30783841e-01   1.03045590e-02  -9.90136638e-02   3.13489302e-03\n",
      "  -1.39065549e-01  -8.38185754e-03   2.20628008e-02  -2.79125683e-02\n",
      "   7.33740181e-02   1.51571140e-01  -7.66775906e-02  -3.29573173e-04\n",
      "   5.70021830e-02   1.92073006e-02   8.45819265e-02   8.14636722e-02\n",
      "  -1.77461296e-01   2.64824182e-02  -1.76909771e-02  -1.30950869e-03\n",
      "   1.07263006e-01  -1.01006426e-01   4.21369541e-03   1.63857549e-01\n",
      "   1.47233620e-01   7.38522271e-03   2.11794674e-01  -1.23877823e-02\n",
      "   3.07655837e-02   8.28851946e-03   6.02104003e-03  -1.21904267e-02\n",
      "  -7.34116584e-02  -7.27306232e-02   7.45779127e-02  -1.25300363e-01\n",
      "   8.34813283e-04   6.31268620e-02   2.97333915e-02   5.04840873e-02\n",
      "   4.51324843e-02   1.28513649e-01   5.60948020e-03   1.06535725e-01\n",
      "   9.11516994e-02  -1.26189068e-01   2.14614626e-02   8.79612714e-02\n",
      "  -1.69011205e-02   2.22515333e-02   6.59949258e-02   1.00932997e-02\n",
      "  -8.73536095e-02  -2.40377393e-02   2.55894493e-02   2.35404987e-02\n",
      "   2.72811353e-02  -1.69579998e-01  -2.37837550e-03  -8.99767801e-02\n",
      "   2.46131912e-01   5.11835441e-02  -3.31770182e-02   8.07869360e-02\n",
      "   6.43252805e-02  -2.44657397e-01   1.27763860e-02  -1.48545846e-01\n",
      "  -6.64651440e-03   8.05143416e-02   2.48010214e-02  -7.12141469e-02\n",
      "   6.10325299e-03  -4.26151324e-03  -1.10642761e-01  -9.08610374e-02\n",
      "   2.89538577e-02  -2.05740463e-02  -8.88920575e-02   2.11337931e-03\n",
      "   7.38727003e-02   9.91933122e-02  -1.86680928e-02  -5.96905760e-02\n",
      "   1.05804175e-01   4.86453213e-02  -9.63793695e-02  -2.14697361e-01\n",
      "  -6.26921430e-02  -1.20130971e-01   7.05087483e-02   8.93219784e-02\n",
      "   9.63984206e-02  -1.49592459e-01   2.77208835e-02   7.04515912e-03\n",
      "  -1.62049398e-01  -1.64010376e-01   6.09998405e-02   1.20896153e-01\n",
      "   1.39871035e-02  -1.09864421e-01  -6.50193840e-02   7.08290264e-02\n",
      "  -1.72988214e-02  -1.82378158e-01  -2.41136532e-02   5.38842678e-02\n",
      "   5.69593832e-02   6.56081438e-02  -2.07271520e-02  -8.68435055e-02\n",
      "  -5.83295664e-03   7.49221444e-02  -1.10508919e-01   3.73462588e-02\n",
      "   7.55457431e-02   7.23582879e-02  -4.30347435e-02   2.27136025e-03\n",
      "   2.38974109e-01   3.16706412e-02  -8.44398737e-02   1.04168445e-01\n",
      "  -7.13850707e-02  -1.61253229e-01   4.84147817e-02   5.97613454e-02\n",
      "   6.15596585e-02  -1.74304619e-02  -1.16830908e-01   6.85192738e-03\n",
      "  -1.29974121e-02  -1.14503883e-01  -5.00288606e-02  -3.07723098e-02\n",
      "   8.72851461e-02   1.54652139e-02   1.13058820e-01   1.52329966e-01\n",
      "  -6.97356239e-02   2.49630660e-02  -4.85314280e-02   1.28765181e-01\n",
      "  -2.08677977e-01   8.50611478e-02  -1.24617405e-01  -3.98149947e-03\n",
      "   6.62092026e-03  -1.68719336e-01   8.13125446e-03   8.94925371e-02\n",
      "  -5.73396273e-02  -2.92644985e-02  -1.42185047e-01  -4.93861735e-02\n",
      "  -6.94727376e-02   4.16797064e-02  -6.48098364e-02  -7.12298974e-02\n",
      "   1.19317859e-01   8.08211342e-02  -1.18236206e-01  -2.82894038e-02\n",
      "  -1.13178514e-01  -4.81224582e-02   4.64940164e-03   8.16894621e-02\n",
      "   1.18965216e-01   1.65204361e-01  -5.09097576e-02  -2.02353057e-02\n",
      "   4.60678786e-02   1.03452466e-01  -2.26700231e-02  -9.66520905e-02\n",
      "  -1.13415301e-01  -3.62250842e-02   9.40557271e-02   1.70326396e-03\n",
      "  -1.29360035e-01  -1.27666190e-01   5.64044602e-02   2.09914632e-02\n",
      "   2.61982292e-01   3.05545144e-02   2.94339973e-02   2.93949060e-02\n",
      "  -6.81161135e-02   4.79294807e-02  -1.06863333e-02   1.91765532e-01\n",
      "   9.47564747e-03  -1.07370019e-01   1.50422141e-01  -1.05356134e-01\n",
      "   9.69047993e-02   4.11101766e-02   6.42139614e-02   9.18661803e-02\n",
      "   5.53800687e-02   1.59244791e-01   3.55026536e-02  -1.01854779e-01\n",
      "  -3.34724821e-02   1.36270985e-01  -8.77513289e-02   1.45009935e-01\n",
      "  -5.28463982e-02  -8.20941478e-02  -1.64863635e-02   1.24382868e-01\n",
      "  -6.05265684e-02   3.39832215e-04   1.08062565e-01  -1.19075164e-01\n",
      "   3.52848656e-02   1.15425684e-01   9.08736438e-02   7.73468018e-02\n",
      "   1.45120427e-01  -1.33101121e-01   5.51673733e-02  -1.14661962e-01\n",
      "  -1.17524453e-01  -1.32424638e-01   4.57649678e-02   5.53124435e-02\n",
      "  -6.01489469e-02   6.89696372e-02  -7.79770687e-02  -1.24244392e-01\n",
      "   1.74625497e-02   1.54488415e-01   1.03698850e-01  -1.53761953e-01\n",
      "  -4.23010960e-02  -1.10120192e-01  -7.49414414e-02   1.96728930e-02\n",
      "  -1.83167443e-01  -6.20897524e-02   5.23721166e-02   9.16614905e-02\n",
      "   6.93133753e-03  -2.17533782e-02  -2.20692772e-02   1.54614905e-02\n",
      "   9.61969569e-02   9.33484435e-02   3.91412340e-03   7.38407597e-02\n",
      "  -2.34300382e-02   3.11403088e-02   1.61587551e-01  -5.67573458e-02\n",
      "   1.25470199e-02   6.96891323e-02  -8.75349864e-02   2.45269332e-02\n",
      "  -4.65100668e-02   8.26728940e-02   8.75571147e-02  -1.75459445e-01\n",
      "   8.49912763e-02   1.06948003e-01  -8.64550173e-02   3.09605431e-02]\n"
     ]
    },
    {
     "name": "stderr",
     "output_type": "stream",
     "text": [
      "/home/subash31/anaconda2/lib/python2.7/site-packages/sklearn/utils/validation.py:395: DeprecationWarning: Passing 1d arrays as data is deprecated in 0.17 and will raise ValueError in 0.19. Reshape your data either using X.reshape(-1, 1) if your data has a single feature or X.reshape(1, -1) if it contains a single sample.\n",
      "  DeprecationWarning)\n",
      "/home/subash31/anaconda2/lib/python2.7/site-packages/sklearn/utils/validation.py:395: DeprecationWarning: Passing 1d arrays as data is deprecated in 0.17 and will raise ValueError in 0.19. Reshape your data either using X.reshape(-1, 1) if your data has a single feature or X.reshape(1, -1) if it contains a single sample.\n",
      "  DeprecationWarning)\n"
     ]
    }
   ],
   "source": [
    "model.random = np.random.RandomState(1234)\n",
    "a1 = model.infer_vector(\"lebanese restaurant in the west part of town\")\n",
    "model.random = np.random.RandomState(1234)\n",
    "a2 = model.infer_vector(\"lebanese restaurant in the west part of town\")\n",
    "model.random = np.random.RandomState(1234)\n",
    "\n",
    "a2 =model.docvecs[6]\n",
    "cnt = 0\n",
    "for i in userSentences:\n",
    "    if cnt==6:\n",
    "        \n",
    "        break\n",
    "    print i    \n",
    "    cnt += 1    \n",
    "print a1\n",
    "print a2"
   ]
  },
  {
   "cell_type": "code",
   "execution_count": 124,
   "metadata": {
    "collapsed": true
   },
   "outputs": [],
   "source": [
    "num = a1.dot(a2)"
   ]
  },
  {
   "cell_type": "code",
   "execution_count": 125,
   "metadata": {
    "collapsed": false
   },
   "outputs": [
    {
     "name": "stdout",
     "output_type": "stream",
     "text": [
      "-0.400908\n"
     ]
    }
   ],
   "source": [
    "print num"
   ]
  },
  {
   "cell_type": "code",
   "execution_count": 103,
   "metadata": {
    "collapsed": false
   },
   "outputs": [],
   "source": [
    "mod1 = a1.dot(a1)\n",
    "mod2 = a2.dot(a2)\n",
    "mod1 = sqrt(mod1)\n",
    "mod2 = sqrt(mod2)"
   ]
  },
  {
   "cell_type": "code",
   "execution_count": 104,
   "metadata": {
    "collapsed": true
   },
   "outputs": [],
   "source": [
    "den = mod1*mod2\n"
   ]
  },
  {
   "cell_type": "code",
   "execution_count": 105,
   "metadata": {
    "collapsed": false
   },
   "outputs": [
    {
     "name": "stdout",
     "output_type": "stream",
     "text": [
      "4.19175004959\n"
     ]
    }
   ],
   "source": [
    "print den"
   ]
  },
  {
   "cell_type": "code",
   "execution_count": 106,
   "metadata": {
    "collapsed": true
   },
   "outputs": [],
   "source": [
    "cosine = num/float(den)\n"
   ]
  },
  {
   "cell_type": "code",
   "execution_count": 107,
   "metadata": {
    "collapsed": false
   },
   "outputs": [
    {
     "name": "stdout",
     "output_type": "stream",
     "text": [
      "1.0\n"
     ]
    }
   ],
   "source": [
    "print cosine"
   ]
  },
  {
   "cell_type": "code",
   "execution_count": null,
   "metadata": {
    "collapsed": true
   },
   "outputs": [],
   "source": []
  }
 ],
 "metadata": {
  "kernelspec": {
   "display_name": "Python [Root]",
   "language": "python",
   "name": "Python [Root]"
  },
  "language_info": {
   "codemirror_mode": {
    "name": "ipython",
    "version": 2
   },
   "file_extension": ".py",
   "mimetype": "text/x-python",
   "name": "python",
   "nbconvert_exporter": "python",
   "pygments_lexer": "ipython2",
   "version": "2.7.12"
  }
 },
 "nbformat": 4,
 "nbformat_minor": 0
}
